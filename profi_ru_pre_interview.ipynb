{
  "nbformat": 4,
  "nbformat_minor": 0,
  "metadata": {
    "colab": {
      "name": "profi ru pre-interview.ipynb",
      "provenance": []
    },
    "kernelspec": {
      "name": "python3",
      "display_name": "Python 3"
    }
  },
  "cells": [
    {
      "cell_type": "markdown",
      "metadata": {
        "id": "oSBjL94DlGoI"
      },
      "source": [
        "# **1. Написать функцию на Python**\n",
        "\n",
        "Напиши функцию, которая удалит дубликаты в списке. Список не отсортирован. Необходимо сохранить порядок сортировки оригинального списка.\n",
        "\n",
        "Примеры:\n",
        "\n",
        "*   [1, 2, 3, 1] → [1, 2, 3]\n",
        "*   [1, 3, 2, 1, 5, 3, 5, 1, 4] → [1, 3, 2, 5, 4]\n",
        "\n",
        "\n",
        "Какая асимптотическая сложность у этой функции?\n",
        "\n",
        "Если задание покажется слишком простым, можешь дополнительно написать юнит тест или doctest.\n"
      ]
    },
    {
      "cell_type": "code",
      "metadata": {
        "id": "RETK9I4TlV_U"
      },
      "source": [
        "def delete_duplicates(input_array):\n",
        "  seen_elements = set()\n",
        "  output_array = []\n",
        "  for element in input_array:\n",
        "    if element not in seen_elements:\n",
        "      seen_elements.add(element)\n",
        "      output_array.append(element) \n",
        "  return output_array"
      ],
      "execution_count": 1,
      "outputs": []
    },
    {
      "cell_type": "markdown",
      "metadata": {
        "id": "Dm25rv5HG226"
      },
      "source": [
        "Асимптотическая сложность написанной функции $O(n)$. Действительно, внутри цикла по $n$ элементам списка проверяется, встречался ли ранее этот элемент. Это проверяется с помощью множества `seen_elements`, а поскольку `set` реализован с помощью хэшей, то такая проверка в среднем выполняется за $O(1)$. Добавление элемента в `seen_elements` и `output_array` тоже выполняется за $O(1)$."
      ]
    },
    {
      "cell_type": "markdown",
      "metadata": {
        "id": "btKPPkrJ3EpE"
      },
      "source": [
        "##Юнит тест"
      ]
    },
    {
      "cell_type": "code",
      "metadata": {
        "id": "teXl_mQK3IkA",
        "outputId": "fa662651-5463-4e96-fada-93ee5ed3e68d",
        "colab": {
          "base_uri": "https://localhost:8080/",
          "height": 260
        }
      },
      "source": [
        "import unittest\n",
        "\n",
        "class DeleteDuplicatesTest(unittest.TestCase):\n",
        "  def test_empty_array(self):\n",
        "    self.assertEqual(delete_duplicates([]), [])  \n",
        "\n",
        "  def test_constant_num_array(self):\n",
        "    self.assertEqual(delete_duplicates([1, 1, 1, 1, 1, 1]), [1])   \n",
        "\n",
        "  def test_constant_string_array(self):\n",
        "    self.assertEqual(delete_duplicates(['a', 'a', 'a', 'a']), ['a'])       \n",
        "\n",
        "  def test_alternating_numbers(self):\n",
        "    input_array = [2, 1, 2, 1, 3, 2, 2]\n",
        "    expected_output = [2, 1, 3]\n",
        "    self.assertEqual(delete_duplicates(input_array), expected_output)\n",
        "\n",
        "  def test_alternating_strings(self):\n",
        "    input_array = ['a', 'b', 'b', 'a', 'c', 'b', 'b']\n",
        "    expected_output = ['a', 'b', 'c']\n",
        "    self.assertEqual(delete_duplicates(input_array), expected_output)\n",
        "\n",
        "  def test_alternating_numbers_and_strings(self):\n",
        "    input_array = ['a', 1, 'b', 2, 1, 'a', 2, 'b', 'b', 2, 2, 1]\n",
        "    expected_output = ['a', 1, 'b', 2]\n",
        "    self.assertEqual(delete_duplicates(input_array), expected_output)            \n",
        "\n",
        "  def test_example_from_task_1(self):\n",
        "    input_array = [1, 2, 3, 1]\n",
        "    expected_output = [1, 2, 3]\n",
        "    self.assertEqual(delete_duplicates(input_array), expected_output)\n",
        "\n",
        "  def test_example_from_task_2(self):\n",
        "    input_array = [1, 3, 2, 1, 5, 3, 5, 1, 4]\n",
        "    expected_output = [1, 3, 2, 5, 4]\n",
        "    self.assertEqual(delete_duplicates(input_array), expected_output)\n",
        "\n",
        "\n",
        "unittest.main(argv=[''], verbosity=2, exit=False)"
      ],
      "execution_count": 2,
      "outputs": [
        {
          "output_type": "stream",
          "text": [
            "test_alternating_numbers (__main__.DeleteDuplicatesTest) ... ok\n",
            "test_alternating_numbers_and_strings (__main__.DeleteDuplicatesTest) ... ok\n",
            "test_alternating_strings (__main__.DeleteDuplicatesTest) ... ok\n",
            "test_constant_num_array (__main__.DeleteDuplicatesTest) ... ok\n",
            "test_constant_string_array (__main__.DeleteDuplicatesTest) ... ok\n",
            "test_empty_array (__main__.DeleteDuplicatesTest) ... ok\n",
            "test_example_from_task_1 (__main__.DeleteDuplicatesTest) ... ok\n",
            "test_example_from_task_2 (__main__.DeleteDuplicatesTest) ... ok\n",
            "\n",
            "----------------------------------------------------------------------\n",
            "Ran 8 tests in 0.011s\n",
            "\n",
            "OK\n"
          ],
          "name": "stderr"
        },
        {
          "output_type": "execute_result",
          "data": {
            "text/plain": [
              "<unittest.main.TestProgram at 0x7f508348a240>"
            ]
          },
          "metadata": {
            "tags": []
          },
          "execution_count": 2
        }
      ]
    },
    {
      "cell_type": "markdown",
      "metadata": {
        "id": "zAc8cbJxkdnw"
      },
      "source": [
        "# **2. Написать SQL запрос**\n",
        "\n",
        "Дана таблица employees всех сотрудников компании. Поля:\n",
        "\n",
        "*   full_name TEXT (PK),\n",
        "*   position TEXT,\n",
        "*   department TEXT.\n",
        "\n",
        "\n",
        "Напиши запрос, выводящий все отделы, в которых меньше 5 разработчиков (position = 'Software Developer').\n"
      ]
    },
    {
      "cell_type": "markdown",
      "metadata": {
        "id": "bchnnw13kuQ8"
      },
      "source": [
        "\n",
        "```\n",
        "SELECT department\n",
        "FROM employees\n",
        "EXCEPT \n",
        "SELECT department\n",
        "FROM employees\n",
        "WHERE position = 'Software developer'\n",
        "GROUP BY department\n",
        "HAVING COUNT(*) >= 5\n",
        "```\n",
        "\n",
        "В СУБД, которые не поддерживают `EXCEPT` (например, в MySQL), можно написать запрос в таком виде:\n",
        "\n",
        "\n",
        "```\n",
        "SELECT DISTINCT department\n",
        "FROM employees\n",
        "WHERE department NOT IN(\n",
        "  SELECT department\n",
        "  FROM employees\n",
        "  WHERE position = 'Software developer'\n",
        "  GROUP BY department\n",
        "  HAVING COUNT(*) >= 5\n",
        ")\n",
        "```\n",
        "\n",
        "Написанный в скобках подзапрос находит все отделы, в которых не меньше 5 разработчиков. Затем эти отделы исключаются из списка всех отделов. \n",
        "\n",
        "**Замечание.** Просто написать такой же запрос, как в скобках, но с `HAVING COUNT(*) < 5` не сработало бы: тогда не выводились бы те отделы, в которых вообще нет разработчиков.\n",
        "\n",
        "\n",
        "\n",
        "\n"
      ]
    },
    {
      "cell_type": "markdown",
      "metadata": {
        "id": "R1-3fBPtTxpC"
      },
      "source": [
        "# **3. Решить задачу**\n",
        "\n",
        "\n",
        "Подкинули монету N раз. Кол-во случаев, когда выпал орёл, на 10% больше, чем кол-во случаев, когда выпала решка. При каком N мы можем сказать, что монета «нечестная» (орёл и решка выпадают с разной вероятностью)?"
      ]
    },
    {
      "cell_type": "markdown",
      "metadata": {
        "id": "bcQW2YhPbWV-"
      },
      "source": [
        "## Первый способ"
      ]
    },
    {
      "cell_type": "markdown",
      "metadata": {
        "id": "wxqor4hqxhyG"
      },
      "source": [
        " **Проверка гипотез о значениях параметра биномиального распределения**\n",
        "\n",
        "Даны $N$ случайных величин $(\\xi_1, \\xi_2, \\dots, \\xi_N)$ со значениями $(x_1, x_2, \\dots, x_N)$. При этом $\\xi_k = \n",
        "\\begin{cases} \n",
        "0&\\text{с вероятностью $1-p$} \\\\\n",
        "1 &\\text{с вероятностью $p$}\\\\\n",
        "\\end{cases}$\n",
        "\n",
        "Обозначим $S_N = \\sum\\limits_{i = 1}^{N} \\xi_i$. Тогда $S_N$ имеет биномиальное распределение с параметрами $(N, p)$. Другими словами, $P(S_N = m) = C_N^m p^m (1 - p)^{N-m}$.\n",
        "\n",
        "Рассмотрим две гипотезы:\n",
        "\n",
        "$H_0$: $p = p_0$\n",
        "\n",
        "$H_1$: $p\\neq p_0$\n",
        "\n",
        "**Статистика:** $T(\\xi) = S_N$\n",
        "\n",
        "**Критерий:** если $T(x) \\leq b_{(N, p_0)}\\left(\\frac{\\alpha}{2}\\right)$ или $T(x) \\geq b_{(N, p_0)}\\left(1-\\frac{\\alpha}{2}\\right)$, то $H_0$ отклоняется в пользу $H_1$, иначе принимается. Здесь за $b_{(N, p_0)}\\left(\\alpha\\right)$ обозначена $\\alpha$-квантиль биномиального распределения $B(N, p)$.\n"
      ]
    },
    {
      "cell_type": "markdown",
      "metadata": {
        "id": "ufeTVYrC2Nvl"
      },
      "source": [
        "Всего было $N$ подбрасываний монеты. Пусть выпало $y$ решек. Тогда орлов выпало $1.1y$.\n",
        "\n",
        "Значит, $N = y + 1.1y$. Или, другими словами, $N = 2.1y$. Поскольку  $y$ и $N$ — натуральные числа, то $N$ должно нацело делиться на $21$, а $y$ — нацело делиться на $10$.\n",
        "\n",
        "Во введённых выше обозначениях пусть $\\xi_k = 0$ соответствует выпадению орла, а $\\xi_k = 1$ — выпадению решки. При этом $p_0 = 0.5$ и $\\alpha = 0.05$ (стандартный уровень значимости).\n",
        "\n",
        "Критерий проверим с помощью следующего кода\n",
        "\n",
        "\n"
      ]
    },
    {
      "cell_type": "code",
      "metadata": {
        "id": "b48XZYDfuc0b",
        "outputId": "a5fd15e5-4730-4118-c1bf-6e0a5a907a9f",
        "colab": {
          "base_uri": "https://localhost:8080/",
          "height": 35
        }
      },
      "source": [
        "from scipy import stats\n",
        "\n",
        "p_value_array = []\n",
        "p_val = 1\n",
        "num_iter = 1\n",
        "while p_val > 0.05:\n",
        "  p_val = stats.binom_test(num_iter * 10, num_iter * 21, 0.5, alternative = 'two-sided') \n",
        "  # num_iter * 21 equals N and num_iter * 10 corresponds to the number of tails \n",
        "  p_value_array.append(p_val) \n",
        "  num_iter = num_iter + 1\n",
        "print('N = {} * 21 = {}'.format(num_iter, num_iter * 21))"
      ],
      "execution_count": 3,
      "outputs": [
        {
          "output_type": "stream",
          "text": [
            "N = 84 * 21 = 1764\n"
          ],
          "name": "stdout"
        }
      ]
    },
    {
      "cell_type": "markdown",
      "metadata": {
        "id": "9M6MU6G6bJhw"
      },
      "source": [
        "Итого, при $N \\geq 1764$ мы можем сказать, что монета «нечестная» (орёл и решка выпадают с разной вероятностью)."
      ]
    },
    {
      "cell_type": "markdown",
      "metadata": {
        "id": "DUgJW8WZbgLI"
      },
      "source": [
        "##Второй способ"
      ]
    },
    {
      "cell_type": "markdown",
      "metadata": {
        "id": "-O88knjwYGsS"
      },
      "source": [
        "**Асимптотический критерий на основе центральной предельной теоремы**\n",
        "\n",
        "Обозначения такие же, как в первом решении:\n",
        "\n",
        "$H_0$: $p = p_0$\n",
        "\n",
        "$H_1$: $p\\neq p_0$\n",
        "\n",
        "**Статистика:** $T(\\xi) = S_N = \\sum\\limits_{i = 1}^{N} \\xi_i$\n",
        "\n",
        "\n",
        "По центральной предельной теореме при выполнении гипотезы $H_0$ величина $\\frac{S_N - Np_0}{\\sqrt{Np_0(1-p_0)}}$ имеет асимптотическое нормальное распределение $\\mathcal{N}(0, 1)$.\n",
        "\n",
        "**Критерий:** Обозначим $Z(x) = \\frac{T(x) - Np_0}{\\sqrt{Np_0(1-p_0)}}$. Тогда если $Z(x)< -z\\left(1-\\frac{\\alpha}{2}\\right)$ или $Z(x)> z\\left(1-\\frac{\\alpha}{2}\\right)$, то $H_0$ отклоняется в пользу $H_1$, иначе принимается. Здесь за $z\\left(\\alpha\\right)$ обозначена $\\alpha$-квантиль стандартного нормального распределения $\\mathcal{N}(0, 1)$.\n",
        "\n",
        "\n",
        "\n"
      ]
    },
    {
      "cell_type": "markdown",
      "metadata": {
        "id": "BuX7-bZ-i5LZ"
      },
      "source": [
        "В нашей задаче $T(x)$ это число выпавших решек, то есть $\\frac{N}{2.1}$, а $p_0 = 0.5$. Значит, $Z(x) = \\frac{\\frac{N}{2.1}-\\frac{N}{2}}{{\\sqrt{\\frac{N}{2\\cdot 2}}}}= 2\\sqrt{N}\\left(\\frac{1}{2.1}-\\frac{1}{2}\\right)=\\frac{-\\sqrt N}{21}$.\n",
        "\n",
        "Итак, при $\\alpha = 0.05$ неравенство $Z < -z\\left(1-\\frac{\\alpha}{2}\\right)$ равносильно $\\frac{\\sqrt N}{21}>1.960$, что в свою очередь равносильно $N > (21\\cdot 1.960)^2 \\approx 1694$. Ближайшее к полученному число, которое делится на $21$, это $1701$. То есть согласно асимптотическому критерию при $N \\geq 1701$ мы можем сказать, что монета «нечестная».\n",
        "\n"
      ]
    },
    {
      "cell_type": "markdown",
      "metadata": {
        "id": "99lM-LqYyMDg"
      },
      "source": [
        "Два рассмотренных критерия дали немного отличающиеся ответы. Асимпотический критерий даёт лишь приблизительный ответ, потому что критерий верен в пределе при $N\\to\\infty$. Но зато этот критерий требует меньше вычислений и решается без написания кода. Действительно, ведь используются стандартные \"табличные\" квантили для распределения $\\mathcal{N}(0, 1)$. В то время как нужные для первого критерия кватили $b_{(N, p_0)}(\\alpha)$ зависят от неизвестного $N$."
      ]
    },
    {
      "cell_type": "code",
      "metadata": {
        "id": "JNWfT0FY6tvo"
      },
      "source": [
        ""
      ],
      "execution_count": 3,
      "outputs": []
    }
  ]
}